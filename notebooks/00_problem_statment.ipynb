{
 "cells": [
  {
   "cell_type": "markdown",
   "metadata": {},
   "source": [
    "# Assignment 2 - Semi-Supervised Learning for Predicting Survival Time in Multiple Myeloma Patients\n",
    "\n",
    "[Kaggle Link](https://www.kaggle.com/competitions/machine-learning-nova-multiple-myeloma-survival)   \n",
    "[Notion Link](https://claudia-soares.notion.site/Assignment-2-12474b5ca0274b7bbb3c89c7dd5a5cf6#981cd24e241d42b4b77ee5e133fb4c6c)"
   ]
  },
  {
   "cell_type": "markdown",
   "metadata": {},
   "source": [
    "## Objective"
   ]
  },
  {
   "cell_type": "markdown",
   "metadata": {},
   "source": [
    "\n",
    "Apply semi-supervised techniques to develop predictive models for estimating the survival time of patients with [Multiple Myeloma](https://en.wikipedia.org/wiki/Multiple_myeloma)."
   ]
  },
  {
   "cell_type": "markdown",
   "metadata": {},
   "source": [
    "## Dataset Description"
   ]
  },
  {
   "cell_type": "markdown",
   "metadata": {},
   "source": [
    "\n",
    "- Synthetic simulation of clinical data for multiple myeloma patients, including variuous features with correlated missing values.    \n",
    "- Simulation of a commun real-world scenario by having an unlabeled \"SurvivalTime\" (complete information not always available) \n",
    "- 9 features in the overall dataset:\n",
    "    - Age \n",
    "    - Gender \n",
    "    - Disease Stage\n",
    "    - Genetic Risk\n",
    "    - Treatment Type\n",
    "    - Comorbidity Index [[1]](#footnote1)\n",
    "    - Treatment Response\n",
    "    - Survival Time (Target)\n",
    "    - Censoring [[2]](#footnote2) Indicator\n",
    "        - Right censoring: a data point is above a certain value but it is unknown by how much.\n",
    "\n",
    "Prediction Goal: The prediction goal is to corectly predict survival time from features, taking into account missing values in the features and missing labels (missing data == censored data). **Expect missing values in both sets**\n"
   ]
  },
  {
   "cell_type": "markdown",
   "metadata": {},
   "source": [
    "### Features"
   ]
  },
  {
   "cell_type": "markdown",
   "metadata": {},
   "source": [
    "| Column              | Description                                                                                                                                       | Type           |\n",
    "|---------------------|---------------------------------------------------------------------------------------------------------------------------------------------------|----------------|\n",
    "| Age                 | Age of the patient. An integer number.                                                                                                            | Integer        |\n",
    "| Gender              | Biological sex of the patient.                                                                                                                    | Binary         |\n",
    "| Stage               | Extent of the cancer, ranging from 1 (less severe) to 4 (very serious).                                                                            | Integer (1-4)  |\n",
    "| GeneticRisk         | Combined information on a patient's genetic cancer risk, ranging between 0 and 1.                                                                  | Real (0-1)     |\n",
    "| TreatmentType       | Type of treatment administered (more aggressive or milder).                                                                                       | Binary         |\n",
    "| ComorbidityIndex    | Quantifies the number and severity of additional comorbid conditions. Integer where 0 indicates no comorbid conditions.                            | Integer        |\n",
    "| TreatmentResponse   | Effectiveness of the treatment administered (0 for poor/inadequate response).                                                                     | Binary         |"
   ]
  },
  {
   "cell_type": "markdown",
   "metadata": {},
   "source": [
    "### Label and Censored Indicator"
   ]
  },
  {
   "cell_type": "markdown",
   "metadata": {},
   "source": [
    "| Column        | Description                                                                                                                                   | Type       |\n",
    "|---------------|-----------------------------------------------------------------------------------------------------------------------------------------------|------------|\n",
    "| SurvivalTime  | Duration from the start of the study or treatment to the event of interest (e.g., death, disease progression), or until the last follow-up.     | Continuous |\n",
    "| Censored      | Indicates whether the survival time is censored (1 for censored, meaning the event did not occur by the end of the study or follow-up).         | Binary     |\n"
   ]
  }
 ],
 "metadata": {
  "language_info": {
   "name": "python"
  }
 },
 "nbformat": 4,
 "nbformat_minor": 2
}
